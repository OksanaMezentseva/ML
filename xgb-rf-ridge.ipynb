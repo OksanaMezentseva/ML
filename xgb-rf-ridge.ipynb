{
 "cells": [
  {
   "cell_type": "code",
   "execution_count": 1,
   "id": "6265274e",
   "metadata": {
    "_cell_guid": "b1076dfc-b9ad-4769-8c92-a6c4dae69d19",
    "_uuid": "8f2839f25d086af736a60e9eeb907d3b93b6e0e5",
    "execution": {
     "iopub.execute_input": "2024-06-30T15:29:08.732185Z",
     "iopub.status.busy": "2024-06-30T15:29:08.731799Z",
     "iopub.status.idle": "2024-06-30T15:29:11.766162Z",
     "shell.execute_reply": "2024-06-30T15:29:11.764920Z"
    },
    "papermill": {
     "duration": 3.043761,
     "end_time": "2024-06-30T15:29:11.768967",
     "exception": false,
     "start_time": "2024-06-30T15:29:08.725206",
     "status": "completed"
    },
    "tags": []
   },
   "outputs": [
    {
     "name": "stdout",
     "output_type": "stream",
     "text": [
      "/kaggle/input/ml-competition-2024-for-ukrainians/sample_submission.csv\n",
      "/kaggle/input/ml-competition-2024-for-ukrainians/train.csv\n",
      "/kaggle/input/ml-competition-2024-for-ukrainians/test.csv\n"
     ]
    }
   ],
   "source": [
    "import numpy as np # linear algebra\n",
    "import pandas as pd # data processing, CSV file I/O (e.g. pd.read_csv)\n",
    "from sklearn.preprocessing import OneHotEncoder\n",
    "from sklearn.model_selection import train_test_split\n",
    "from sklearn.model_selection import GridSearchCV\n",
    "from sklearn.metrics import mean_squared_log_error\n",
    "from sklearn.preprocessing import StandardScaler\n",
    "from sklearn.ensemble import RandomForestRegressor\n",
    "from sklearn.model_selection import RandomizedSearchCV\n",
    "from sklearn.ensemble import GradientBoostingRegressor\n",
    "from sklearn.linear_model import ElasticNet\n",
    "from sklearn.linear_model import Ridge\n",
    "from scipy.stats import randint\n",
    "import xgboost as xgb\n",
    "from copy import deepcopy\n",
    "from catboost import CatBoostRegressor, Pool\n",
    "import os\n",
    "for dirname, _, filenames in os.walk('/kaggle/input'):\n",
    "    for filename in filenames:\n",
    "        print(os.path.join(dirname, filename))"
   ]
  },
  {
   "cell_type": "code",
   "execution_count": 2,
   "id": "39f7dddd",
   "metadata": {
    "execution": {
     "iopub.execute_input": "2024-06-30T15:29:11.780878Z",
     "iopub.status.busy": "2024-06-30T15:29:11.780238Z",
     "iopub.status.idle": "2024-06-30T15:29:13.609778Z",
     "shell.execute_reply": "2024-06-30T15:29:13.608633Z"
    },
    "papermill": {
     "duration": 1.838082,
     "end_time": "2024-06-30T15:29:13.612396",
     "exception": false,
     "start_time": "2024-06-30T15:29:11.774314",
     "status": "completed"
    },
    "tags": []
   },
   "outputs": [],
   "source": [
    "train_df = pd.read_csv('/kaggle/input/ml-competition-2024-for-ukrainians/train.csv')\n",
    "test_df = pd.read_csv('/kaggle/input/ml-competition-2024-for-ukrainians/test.csv')"
   ]
  },
  {
   "cell_type": "code",
   "execution_count": 3,
   "id": "7e087fd1",
   "metadata": {
    "execution": {
     "iopub.execute_input": "2024-06-30T15:29:13.623807Z",
     "iopub.status.busy": "2024-06-30T15:29:13.623396Z",
     "iopub.status.idle": "2024-06-30T15:29:13.629279Z",
     "shell.execute_reply": "2024-06-30T15:29:13.628095Z"
    },
    "papermill": {
     "duration": 0.014497,
     "end_time": "2024-06-30T15:29:13.631692",
     "exception": false,
     "start_time": "2024-06-30T15:29:13.617195",
     "status": "completed"
    },
    "tags": []
   },
   "outputs": [],
   "source": [
    "categoric_features = ['Item_Type',\n",
    "                      'Outlet_Identifier',\n",
    "                      'Item_Fat_Content',\n",
    "                      'Outlet_Size',\n",
    "                      'Outlet_Location_Type',\n",
    "                      'Outlet_Type']\n",
    "\n",
    "cont_features = ['Item_Weight','Item_Visibility','Item_MRP']"
   ]
  },
  {
   "cell_type": "code",
   "execution_count": 4,
   "id": "5d5bd087",
   "metadata": {
    "execution": {
     "iopub.execute_input": "2024-06-30T15:29:13.643184Z",
     "iopub.status.busy": "2024-06-30T15:29:13.642762Z",
     "iopub.status.idle": "2024-06-30T15:29:13.651691Z",
     "shell.execute_reply": "2024-06-30T15:29:13.650312Z"
    },
    "papermill": {
     "duration": 0.01759,
     "end_time": "2024-06-30T15:29:13.654159",
     "exception": false,
     "start_time": "2024-06-30T15:29:13.636569",
     "status": "completed"
    },
    "tags": []
   },
   "outputs": [],
   "source": [
    "def pre_processing_train(df):\n",
    "    \n",
    "    df_tr = df.copy()\n",
    "    \n",
    "    df_tr['Item_Fat_Content'] = df_tr['Item_Fat_Content'].str.lower().str.strip()\n",
    "    df_tr['Item_Fat_Content'] = df_tr['Item_Fat_Content'].replace([r'(^| )reg( |$)', 'lf'], ['regular', 'low fat'], regex=True)\n",
    "    \n",
    "    \n",
    "    cols_to_encode = categoric_features\n",
    "    one_hot = OneHotEncoder(handle_unknown='ignore')\n",
    "    OH_cols_train = one_hot.fit_transform(df_tr[cols_to_encode])\n",
    "    category_names = one_hot.get_feature_names_out(categoric_features)\n",
    "    OH_cols_train = pd.DataFrame(OH_cols_train.toarray(), columns=category_names, index=df_tr.index)\n",
    "    df_tr = df_tr.drop(cols_to_encode, axis=1)\n",
    "    df_tr = df_tr.drop(['Item_Outlet_Sales', 'Item_Identifier', 'Outlet_Establishment_Year'], axis=1)\n",
    "    #df_tr = df_tr.drop(['Item_Fat_Content', 'Outlet_Size'], axis=1)\n",
    "    df_tr = pd.concat([df_tr, OH_cols_train], axis=1)\n",
    "    \n",
    "    scale_cols = cont_features\n",
    "    sc = StandardScaler()\n",
    "    scaled_data = sc.fit_transform(df_tr[scale_cols])\n",
    "    df_tr[scale_cols] = scaled_data\n",
    "    \n",
    "    df_tr.columns = df_tr.columns.astype(str)\n",
    "    \n",
    "    return df_tr, sc, one_hot"
   ]
  },
  {
   "cell_type": "code",
   "execution_count": 5,
   "id": "efd6b581",
   "metadata": {
    "execution": {
     "iopub.execute_input": "2024-06-30T15:29:13.666237Z",
     "iopub.status.busy": "2024-06-30T15:29:13.665158Z",
     "iopub.status.idle": "2024-06-30T15:29:13.674035Z",
     "shell.execute_reply": "2024-06-30T15:29:13.672689Z"
    },
    "papermill": {
     "duration": 0.017494,
     "end_time": "2024-06-30T15:29:13.676497",
     "exception": false,
     "start_time": "2024-06-30T15:29:13.659003",
     "status": "completed"
    },
    "tags": []
   },
   "outputs": [],
   "source": [
    "def pre_processing_test(df, sc: StandardScaler, one_hot: OneHotEncoder):\n",
    "    df_test = df.copy()\n",
    "    \n",
    "    df_test['Item_Fat_Content'] = df_test['Item_Fat_Content'].str.lower().str.strip()\n",
    "    df_test['Item_Fat_Content'] = df_test['Item_Fat_Content'].replace([r'(^| )reg( |$)', 'lf'], ['regular', 'low fat'], regex=True)\n",
    "    \n",
    "    cols_to_encode = categoric_features\n",
    "    OH_cols_train = one_hot.transform(df_test[cols_to_encode])\n",
    "    category_names = one_hot.get_feature_names_out(categoric_features)\n",
    "    OH_cols_train = pd.DataFrame(OH_cols_train.toarray(), columns=category_names, index=df_test.index)\n",
    "    df_test = df_test.drop(cols_to_encode, axis=1)\n",
    "    df_test = df_test.drop(['Item_Outlet_Sales', 'Item_Identifier', 'Outlet_Establishment_Year'], axis=1)\n",
    "    #df_test = df_test.drop(['Item_Fat_Content', 'Outlet_Size'], axis=1)\n",
    "    df_test = pd.concat([df_test, OH_cols_train], axis=1)\n",
    "    \n",
    "    scale_cols = cont_features\n",
    "    scaled_data = sc.transform(df_test[scale_cols])\n",
    "    df_test[scale_cols] = scaled_data\n",
    "    \n",
    "    df_test.columns = df_test.columns.astype(str)\n",
    "    \n",
    "    return df_test"
   ]
  },
  {
   "cell_type": "code",
   "execution_count": 6,
   "id": "a1098294",
   "metadata": {
    "execution": {
     "iopub.execute_input": "2024-06-30T15:29:13.687690Z",
     "iopub.status.busy": "2024-06-30T15:29:13.687184Z",
     "iopub.status.idle": "2024-06-30T15:29:16.070225Z",
     "shell.execute_reply": "2024-06-30T15:29:16.069078Z"
    },
    "papermill": {
     "duration": 2.391386,
     "end_time": "2024-06-30T15:29:16.072575",
     "exception": false,
     "start_time": "2024-06-30T15:29:13.681189",
     "status": "completed"
    },
    "tags": []
   },
   "outputs": [
    {
     "data": {
      "text/html": [
       "<div>\n",
       "<style scoped>\n",
       "    .dataframe tbody tr th:only-of-type {\n",
       "        vertical-align: middle;\n",
       "    }\n",
       "\n",
       "    .dataframe tbody tr th {\n",
       "        vertical-align: top;\n",
       "    }\n",
       "\n",
       "    .dataframe thead th {\n",
       "        text-align: right;\n",
       "    }\n",
       "</style>\n",
       "<table border=\"1\" class=\"dataframe\">\n",
       "  <thead>\n",
       "    <tr style=\"text-align: right;\">\n",
       "      <th></th>\n",
       "      <th>id</th>\n",
       "      <th>Item_Weight</th>\n",
       "      <th>Item_Visibility</th>\n",
       "      <th>Item_MRP</th>\n",
       "      <th>Item_Type_Baking Goods</th>\n",
       "      <th>Item_Type_Breads</th>\n",
       "      <th>Item_Type_Breakfast</th>\n",
       "      <th>Item_Type_Canned</th>\n",
       "      <th>Item_Type_Dairy</th>\n",
       "      <th>Item_Type_Frozen Foods</th>\n",
       "      <th>...</th>\n",
       "      <th>Outlet_Size_High</th>\n",
       "      <th>Outlet_Size_Medium</th>\n",
       "      <th>Outlet_Size_Small</th>\n",
       "      <th>Outlet_Location_Type_Tier 1</th>\n",
       "      <th>Outlet_Location_Type_Tier 2</th>\n",
       "      <th>Outlet_Location_Type_Tier 3</th>\n",
       "      <th>Outlet_Type_Grocery Store</th>\n",
       "      <th>Outlet_Type_Supermarket Type1</th>\n",
       "      <th>Outlet_Type_Supermarket Type2</th>\n",
       "      <th>Outlet_Type_Supermarket Type3</th>\n",
       "    </tr>\n",
       "  </thead>\n",
       "  <tbody>\n",
       "    <tr>\n",
       "      <th>0</th>\n",
       "      <td>0</td>\n",
       "      <td>1.039133</td>\n",
       "      <td>-0.634585</td>\n",
       "      <td>1.530694</td>\n",
       "      <td>0.0</td>\n",
       "      <td>0.0</td>\n",
       "      <td>0.0</td>\n",
       "      <td>0.0</td>\n",
       "      <td>0.0</td>\n",
       "      <td>0.0</td>\n",
       "      <td>...</td>\n",
       "      <td>0.0</td>\n",
       "      <td>1.0</td>\n",
       "      <td>0.0</td>\n",
       "      <td>0.0</td>\n",
       "      <td>1.0</td>\n",
       "      <td>0.0</td>\n",
       "      <td>0.0</td>\n",
       "      <td>1.0</td>\n",
       "      <td>0.0</td>\n",
       "      <td>0.0</td>\n",
       "    </tr>\n",
       "    <tr>\n",
       "      <th>1</th>\n",
       "      <td>1</td>\n",
       "      <td>1.667063</td>\n",
       "      <td>1.017029</td>\n",
       "      <td>1.227692</td>\n",
       "      <td>0.0</td>\n",
       "      <td>0.0</td>\n",
       "      <td>0.0</td>\n",
       "      <td>0.0</td>\n",
       "      <td>1.0</td>\n",
       "      <td>0.0</td>\n",
       "      <td>...</td>\n",
       "      <td>0.0</td>\n",
       "      <td>1.0</td>\n",
       "      <td>0.0</td>\n",
       "      <td>0.0</td>\n",
       "      <td>1.0</td>\n",
       "      <td>0.0</td>\n",
       "      <td>0.0</td>\n",
       "      <td>1.0</td>\n",
       "      <td>0.0</td>\n",
       "      <td>0.0</td>\n",
       "    </tr>\n",
       "    <tr>\n",
       "      <th>2</th>\n",
       "      <td>2</td>\n",
       "      <td>1.201529</td>\n",
       "      <td>0.803979</td>\n",
       "      <td>1.842414</td>\n",
       "      <td>0.0</td>\n",
       "      <td>0.0</td>\n",
       "      <td>0.0</td>\n",
       "      <td>0.0</td>\n",
       "      <td>0.0</td>\n",
       "      <td>0.0</td>\n",
       "      <td>...</td>\n",
       "      <td>1.0</td>\n",
       "      <td>0.0</td>\n",
       "      <td>0.0</td>\n",
       "      <td>0.0</td>\n",
       "      <td>0.0</td>\n",
       "      <td>1.0</td>\n",
       "      <td>0.0</td>\n",
       "      <td>1.0</td>\n",
       "      <td>0.0</td>\n",
       "      <td>0.0</td>\n",
       "    </tr>\n",
       "    <tr>\n",
       "      <th>3</th>\n",
       "      <td>3</td>\n",
       "      <td>-0.140943</td>\n",
       "      <td>-0.226181</td>\n",
       "      <td>0.730313</td>\n",
       "      <td>0.0</td>\n",
       "      <td>0.0</td>\n",
       "      <td>0.0</td>\n",
       "      <td>0.0</td>\n",
       "      <td>0.0</td>\n",
       "      <td>0.0</td>\n",
       "      <td>...</td>\n",
       "      <td>0.0</td>\n",
       "      <td>1.0</td>\n",
       "      <td>0.0</td>\n",
       "      <td>1.0</td>\n",
       "      <td>0.0</td>\n",
       "      <td>0.0</td>\n",
       "      <td>0.0</td>\n",
       "      <td>1.0</td>\n",
       "      <td>0.0</td>\n",
       "      <td>0.0</td>\n",
       "    </tr>\n",
       "    <tr>\n",
       "      <th>4</th>\n",
       "      <td>4</td>\n",
       "      <td>-0.498213</td>\n",
       "      <td>-0.246987</td>\n",
       "      <td>0.404395</td>\n",
       "      <td>1.0</td>\n",
       "      <td>0.0</td>\n",
       "      <td>0.0</td>\n",
       "      <td>0.0</td>\n",
       "      <td>0.0</td>\n",
       "      <td>0.0</td>\n",
       "      <td>...</td>\n",
       "      <td>0.0</td>\n",
       "      <td>0.0</td>\n",
       "      <td>1.0</td>\n",
       "      <td>0.0</td>\n",
       "      <td>1.0</td>\n",
       "      <td>0.0</td>\n",
       "      <td>0.0</td>\n",
       "      <td>1.0</td>\n",
       "      <td>0.0</td>\n",
       "      <td>0.0</td>\n",
       "    </tr>\n",
       "    <tr>\n",
       "      <th>...</th>\n",
       "      <td>...</td>\n",
       "      <td>...</td>\n",
       "      <td>...</td>\n",
       "      <td>...</td>\n",
       "      <td>...</td>\n",
       "      <td>...</td>\n",
       "      <td>...</td>\n",
       "      <td>...</td>\n",
       "      <td>...</td>\n",
       "      <td>...</td>\n",
       "      <td>...</td>\n",
       "      <td>...</td>\n",
       "      <td>...</td>\n",
       "      <td>...</td>\n",
       "      <td>...</td>\n",
       "      <td>...</td>\n",
       "      <td>...</td>\n",
       "      <td>...</td>\n",
       "      <td>...</td>\n",
       "      <td>...</td>\n",
       "      <td>...</td>\n",
       "    </tr>\n",
       "    <tr>\n",
       "      <th>378423</th>\n",
       "      <td>378423</td>\n",
       "      <td>0.530293</td>\n",
       "      <td>1.055443</td>\n",
       "      <td>0.041880</td>\n",
       "      <td>0.0</td>\n",
       "      <td>0.0</td>\n",
       "      <td>0.0</td>\n",
       "      <td>0.0</td>\n",
       "      <td>1.0</td>\n",
       "      <td>0.0</td>\n",
       "      <td>...</td>\n",
       "      <td>0.0</td>\n",
       "      <td>0.0</td>\n",
       "      <td>1.0</td>\n",
       "      <td>0.0</td>\n",
       "      <td>1.0</td>\n",
       "      <td>0.0</td>\n",
       "      <td>0.0</td>\n",
       "      <td>1.0</td>\n",
       "      <td>0.0</td>\n",
       "      <td>0.0</td>\n",
       "    </tr>\n",
       "    <tr>\n",
       "      <th>378424</th>\n",
       "      <td>378424</td>\n",
       "      <td>0.844258</td>\n",
       "      <td>-0.760213</td>\n",
       "      <td>-0.807009</td>\n",
       "      <td>1.0</td>\n",
       "      <td>0.0</td>\n",
       "      <td>0.0</td>\n",
       "      <td>0.0</td>\n",
       "      <td>0.0</td>\n",
       "      <td>0.0</td>\n",
       "      <td>...</td>\n",
       "      <td>1.0</td>\n",
       "      <td>0.0</td>\n",
       "      <td>0.0</td>\n",
       "      <td>0.0</td>\n",
       "      <td>0.0</td>\n",
       "      <td>1.0</td>\n",
       "      <td>0.0</td>\n",
       "      <td>1.0</td>\n",
       "      <td>0.0</td>\n",
       "      <td>0.0</td>\n",
       "    </tr>\n",
       "    <tr>\n",
       "      <th>378425</th>\n",
       "      <td>378425</td>\n",
       "      <td>0.064759</td>\n",
       "      <td>-0.150663</td>\n",
       "      <td>1.292600</td>\n",
       "      <td>0.0</td>\n",
       "      <td>0.0</td>\n",
       "      <td>0.0</td>\n",
       "      <td>0.0</td>\n",
       "      <td>0.0</td>\n",
       "      <td>1.0</td>\n",
       "      <td>...</td>\n",
       "      <td>0.0</td>\n",
       "      <td>0.0</td>\n",
       "      <td>1.0</td>\n",
       "      <td>0.0</td>\n",
       "      <td>1.0</td>\n",
       "      <td>0.0</td>\n",
       "      <td>0.0</td>\n",
       "      <td>1.0</td>\n",
       "      <td>0.0</td>\n",
       "      <td>0.0</td>\n",
       "    </tr>\n",
       "    <tr>\n",
       "      <th>378426</th>\n",
       "      <td>378426</td>\n",
       "      <td>-0.845740</td>\n",
       "      <td>1.439135</td>\n",
       "      <td>-1.419530</td>\n",
       "      <td>0.0</td>\n",
       "      <td>0.0</td>\n",
       "      <td>1.0</td>\n",
       "      <td>0.0</td>\n",
       "      <td>0.0</td>\n",
       "      <td>0.0</td>\n",
       "      <td>...</td>\n",
       "      <td>0.0</td>\n",
       "      <td>1.0</td>\n",
       "      <td>0.0</td>\n",
       "      <td>0.0</td>\n",
       "      <td>0.0</td>\n",
       "      <td>1.0</td>\n",
       "      <td>0.0</td>\n",
       "      <td>0.0</td>\n",
       "      <td>1.0</td>\n",
       "      <td>0.0</td>\n",
       "    </tr>\n",
       "    <tr>\n",
       "      <th>378427</th>\n",
       "      <td>378427</td>\n",
       "      <td>1.125744</td>\n",
       "      <td>0.258395</td>\n",
       "      <td>0.305567</td>\n",
       "      <td>0.0</td>\n",
       "      <td>0.0</td>\n",
       "      <td>0.0</td>\n",
       "      <td>0.0</td>\n",
       "      <td>0.0</td>\n",
       "      <td>0.0</td>\n",
       "      <td>...</td>\n",
       "      <td>1.0</td>\n",
       "      <td>0.0</td>\n",
       "      <td>0.0</td>\n",
       "      <td>0.0</td>\n",
       "      <td>0.0</td>\n",
       "      <td>1.0</td>\n",
       "      <td>0.0</td>\n",
       "      <td>1.0</td>\n",
       "      <td>0.0</td>\n",
       "      <td>0.0</td>\n",
       "    </tr>\n",
       "  </tbody>\n",
       "</table>\n",
       "<p>378428 rows × 42 columns</p>\n",
       "</div>"
      ],
      "text/plain": [
       "            id  Item_Weight  Item_Visibility  Item_MRP  \\\n",
       "0            0     1.039133        -0.634585  1.530694   \n",
       "1            1     1.667063         1.017029  1.227692   \n",
       "2            2     1.201529         0.803979  1.842414   \n",
       "3            3    -0.140943        -0.226181  0.730313   \n",
       "4            4    -0.498213        -0.246987  0.404395   \n",
       "...        ...          ...              ...       ...   \n",
       "378423  378423     0.530293         1.055443  0.041880   \n",
       "378424  378424     0.844258        -0.760213 -0.807009   \n",
       "378425  378425     0.064759        -0.150663  1.292600   \n",
       "378426  378426    -0.845740         1.439135 -1.419530   \n",
       "378427  378427     1.125744         0.258395  0.305567   \n",
       "\n",
       "        Item_Type_Baking Goods  Item_Type_Breads  Item_Type_Breakfast  \\\n",
       "0                          0.0               0.0                  0.0   \n",
       "1                          0.0               0.0                  0.0   \n",
       "2                          0.0               0.0                  0.0   \n",
       "3                          0.0               0.0                  0.0   \n",
       "4                          1.0               0.0                  0.0   \n",
       "...                        ...               ...                  ...   \n",
       "378423                     0.0               0.0                  0.0   \n",
       "378424                     1.0               0.0                  0.0   \n",
       "378425                     0.0               0.0                  0.0   \n",
       "378426                     0.0               0.0                  1.0   \n",
       "378427                     0.0               0.0                  0.0   \n",
       "\n",
       "        Item_Type_Canned  Item_Type_Dairy  Item_Type_Frozen Foods  ...  \\\n",
       "0                    0.0              0.0                     0.0  ...   \n",
       "1                    0.0              1.0                     0.0  ...   \n",
       "2                    0.0              0.0                     0.0  ...   \n",
       "3                    0.0              0.0                     0.0  ...   \n",
       "4                    0.0              0.0                     0.0  ...   \n",
       "...                  ...              ...                     ...  ...   \n",
       "378423               0.0              1.0                     0.0  ...   \n",
       "378424               0.0              0.0                     0.0  ...   \n",
       "378425               0.0              0.0                     1.0  ...   \n",
       "378426               0.0              0.0                     0.0  ...   \n",
       "378427               0.0              0.0                     0.0  ...   \n",
       "\n",
       "        Outlet_Size_High  Outlet_Size_Medium  Outlet_Size_Small  \\\n",
       "0                    0.0                 1.0                0.0   \n",
       "1                    0.0                 1.0                0.0   \n",
       "2                    1.0                 0.0                0.0   \n",
       "3                    0.0                 1.0                0.0   \n",
       "4                    0.0                 0.0                1.0   \n",
       "...                  ...                 ...                ...   \n",
       "378423               0.0                 0.0                1.0   \n",
       "378424               1.0                 0.0                0.0   \n",
       "378425               0.0                 0.0                1.0   \n",
       "378426               0.0                 1.0                0.0   \n",
       "378427               1.0                 0.0                0.0   \n",
       "\n",
       "        Outlet_Location_Type_Tier 1  Outlet_Location_Type_Tier 2  \\\n",
       "0                               0.0                          1.0   \n",
       "1                               0.0                          1.0   \n",
       "2                               0.0                          0.0   \n",
       "3                               1.0                          0.0   \n",
       "4                               0.0                          1.0   \n",
       "...                             ...                          ...   \n",
       "378423                          0.0                          1.0   \n",
       "378424                          0.0                          0.0   \n",
       "378425                          0.0                          1.0   \n",
       "378426                          0.0                          0.0   \n",
       "378427                          0.0                          0.0   \n",
       "\n",
       "        Outlet_Location_Type_Tier 3  Outlet_Type_Grocery Store  \\\n",
       "0                               0.0                        0.0   \n",
       "1                               0.0                        0.0   \n",
       "2                               1.0                        0.0   \n",
       "3                               0.0                        0.0   \n",
       "4                               0.0                        0.0   \n",
       "...                             ...                        ...   \n",
       "378423                          0.0                        0.0   \n",
       "378424                          1.0                        0.0   \n",
       "378425                          0.0                        0.0   \n",
       "378426                          1.0                        0.0   \n",
       "378427                          1.0                        0.0   \n",
       "\n",
       "        Outlet_Type_Supermarket Type1  Outlet_Type_Supermarket Type2  \\\n",
       "0                                 1.0                            0.0   \n",
       "1                                 1.0                            0.0   \n",
       "2                                 1.0                            0.0   \n",
       "3                                 1.0                            0.0   \n",
       "4                                 1.0                            0.0   \n",
       "...                               ...                            ...   \n",
       "378423                            1.0                            0.0   \n",
       "378424                            1.0                            0.0   \n",
       "378425                            1.0                            0.0   \n",
       "378426                            0.0                            1.0   \n",
       "378427                            1.0                            0.0   \n",
       "\n",
       "        Outlet_Type_Supermarket Type3  \n",
       "0                                 0.0  \n",
       "1                                 0.0  \n",
       "2                                 0.0  \n",
       "3                                 0.0  \n",
       "4                                 0.0  \n",
       "...                               ...  \n",
       "378423                            0.0  \n",
       "378424                            0.0  \n",
       "378425                            0.0  \n",
       "378426                            0.0  \n",
       "378427                            0.0  \n",
       "\n",
       "[378428 rows x 42 columns]"
      ]
     },
     "execution_count": 6,
     "metadata": {},
     "output_type": "execute_result"
    }
   ],
   "source": [
    "y = train_df['Item_Outlet_Sales']\n",
    "X, sc, one_hot = pre_processing_train(train_df)\n",
    "X"
   ]
  },
  {
   "cell_type": "code",
   "execution_count": 7,
   "id": "4eebb5bc",
   "metadata": {
    "execution": {
     "iopub.execute_input": "2024-06-30T15:29:16.085729Z",
     "iopub.status.busy": "2024-06-30T15:29:16.084505Z",
     "iopub.status.idle": "2024-06-30T15:29:16.394290Z",
     "shell.execute_reply": "2024-06-30T15:29:16.393158Z"
    },
    "papermill": {
     "duration": 0.319058,
     "end_time": "2024-06-30T15:29:16.396994",
     "exception": false,
     "start_time": "2024-06-30T15:29:16.077936",
     "status": "completed"
    },
    "tags": []
   },
   "outputs": [],
   "source": [
    "# Split the data into training and validation sets\n",
    "X_train, X_test, y_train, y_test = train_test_split(X, y, test_size=0.2, random_state=42)\n",
    "X_train, X_valid, y_train, y_valid = train_test_split(X_train, y_train, test_size=0.25, random_state=42)\n"
   ]
  },
  {
   "cell_type": "code",
   "execution_count": 8,
   "id": "46e2991d",
   "metadata": {
    "execution": {
     "iopub.execute_input": "2024-06-30T15:29:16.409274Z",
     "iopub.status.busy": "2024-06-30T15:29:16.408850Z",
     "iopub.status.idle": "2024-06-30T15:30:23.656329Z",
     "shell.execute_reply": "2024-06-30T15:30:23.655215Z"
    },
    "papermill": {
     "duration": 67.261664,
     "end_time": "2024-06-30T15:30:23.664038",
     "exception": false,
     "start_time": "2024-06-30T15:29:16.402374",
     "status": "completed"
    },
    "tags": []
   },
   "outputs": [
    {
     "data": {
      "text/html": [
       "<style>#sk-container-id-1 {color: black;background-color: white;}#sk-container-id-1 pre{padding: 0;}#sk-container-id-1 div.sk-toggleable {background-color: white;}#sk-container-id-1 label.sk-toggleable__label {cursor: pointer;display: block;width: 100%;margin-bottom: 0;padding: 0.3em;box-sizing: border-box;text-align: center;}#sk-container-id-1 label.sk-toggleable__label-arrow:before {content: \"▸\";float: left;margin-right: 0.25em;color: #696969;}#sk-container-id-1 label.sk-toggleable__label-arrow:hover:before {color: black;}#sk-container-id-1 div.sk-estimator:hover label.sk-toggleable__label-arrow:before {color: black;}#sk-container-id-1 div.sk-toggleable__content {max-height: 0;max-width: 0;overflow: hidden;text-align: left;background-color: #f0f8ff;}#sk-container-id-1 div.sk-toggleable__content pre {margin: 0.2em;color: black;border-radius: 0.25em;background-color: #f0f8ff;}#sk-container-id-1 input.sk-toggleable__control:checked~div.sk-toggleable__content {max-height: 200px;max-width: 100%;overflow: auto;}#sk-container-id-1 input.sk-toggleable__control:checked~label.sk-toggleable__label-arrow:before {content: \"▾\";}#sk-container-id-1 div.sk-estimator input.sk-toggleable__control:checked~label.sk-toggleable__label {background-color: #d4ebff;}#sk-container-id-1 div.sk-label input.sk-toggleable__control:checked~label.sk-toggleable__label {background-color: #d4ebff;}#sk-container-id-1 input.sk-hidden--visually {border: 0;clip: rect(1px 1px 1px 1px);clip: rect(1px, 1px, 1px, 1px);height: 1px;margin: -1px;overflow: hidden;padding: 0;position: absolute;width: 1px;}#sk-container-id-1 div.sk-estimator {font-family: monospace;background-color: #f0f8ff;border: 1px dotted black;border-radius: 0.25em;box-sizing: border-box;margin-bottom: 0.5em;}#sk-container-id-1 div.sk-estimator:hover {background-color: #d4ebff;}#sk-container-id-1 div.sk-parallel-item::after {content: \"\";width: 100%;border-bottom: 1px solid gray;flex-grow: 1;}#sk-container-id-1 div.sk-label:hover label.sk-toggleable__label {background-color: #d4ebff;}#sk-container-id-1 div.sk-serial::before {content: \"\";position: absolute;border-left: 1px solid gray;box-sizing: border-box;top: 0;bottom: 0;left: 50%;z-index: 0;}#sk-container-id-1 div.sk-serial {display: flex;flex-direction: column;align-items: center;background-color: white;padding-right: 0.2em;padding-left: 0.2em;position: relative;}#sk-container-id-1 div.sk-item {position: relative;z-index: 1;}#sk-container-id-1 div.sk-parallel {display: flex;align-items: stretch;justify-content: center;background-color: white;position: relative;}#sk-container-id-1 div.sk-item::before, #sk-container-id-1 div.sk-parallel-item::before {content: \"\";position: absolute;border-left: 1px solid gray;box-sizing: border-box;top: 0;bottom: 0;left: 50%;z-index: -1;}#sk-container-id-1 div.sk-parallel-item {display: flex;flex-direction: column;z-index: 1;position: relative;background-color: white;}#sk-container-id-1 div.sk-parallel-item:first-child::after {align-self: flex-end;width: 50%;}#sk-container-id-1 div.sk-parallel-item:last-child::after {align-self: flex-start;width: 50%;}#sk-container-id-1 div.sk-parallel-item:only-child::after {width: 0;}#sk-container-id-1 div.sk-dashed-wrapped {border: 1px dashed gray;margin: 0 0.4em 0.5em 0.4em;box-sizing: border-box;padding-bottom: 0.4em;background-color: white;}#sk-container-id-1 div.sk-label label {font-family: monospace;font-weight: bold;display: inline-block;line-height: 1.2em;}#sk-container-id-1 div.sk-label-container {text-align: center;}#sk-container-id-1 div.sk-container {/* jupyter's `normalize.less` sets `[hidden] { display: none; }` but bootstrap.min.css set `[hidden] { display: none !important; }` so we also need the `!important` here to be able to override the default hidden behavior on the sphinx rendered scikit-learn.org. See: https://github.com/scikit-learn/scikit-learn/issues/21755 */display: inline-block !important;position: relative;}#sk-container-id-1 div.sk-text-repr-fallback {display: none;}</style><div id=\"sk-container-id-1\" class=\"sk-top-container\"><div class=\"sk-text-repr-fallback\"><pre>RandomForestRegressor(max_depth=30, max_features=&#x27;sqrt&#x27;, min_samples_split=10,\n",
       "                      n_estimators=132, random_state=42)</pre><b>In a Jupyter environment, please rerun this cell to show the HTML representation or trust the notebook. <br />On GitHub, the HTML representation is unable to render, please try loading this page with nbviewer.org.</b></div><div class=\"sk-container\" hidden><div class=\"sk-item\"><div class=\"sk-estimator sk-toggleable\"><input class=\"sk-toggleable__control sk-hidden--visually\" id=\"sk-estimator-id-1\" type=\"checkbox\" checked><label for=\"sk-estimator-id-1\" class=\"sk-toggleable__label sk-toggleable__label-arrow\">RandomForestRegressor</label><div class=\"sk-toggleable__content\"><pre>RandomForestRegressor(max_depth=30, max_features=&#x27;sqrt&#x27;, min_samples_split=10,\n",
       "                      n_estimators=132, random_state=42)</pre></div></div></div></div></div>"
      ],
      "text/plain": [
       "RandomForestRegressor(max_depth=30, max_features='sqrt', min_samples_split=10,\n",
       "                      n_estimators=132, random_state=42)"
      ]
     },
     "execution_count": 8,
     "metadata": {},
     "output_type": "execute_result"
    }
   ],
   "source": [
    "#XGBRegressor  best params\n",
    "xgb_params = {\n",
    "    'objective': 'reg:gamma',  #  для регресії\n",
    "    'n_estimators': 200,  # Кількість дерев\n",
    "    'max_depth': 4,  # Максимальна глибина дерев\n",
    "    'learning_rate': 0.05,  # Крок оновлення\n",
    "    'gamma': 0,  # Параметр регуляризації\n",
    "    'reg_lambda': 1,  # Параметр регуляризації\n",
    "}\n",
    "xgb_model = xgb.XGBRegressor(**xgb_params)  # для регресії\n",
    "xgb_model.fit(X_train, y_train)\n",
    "\n",
    "rf_params = {'max_depth': 30,\n",
    " 'max_features': 'sqrt',\n",
    " 'min_samples_leaf': 1,\n",
    " 'min_samples_split': 10,\n",
    " 'n_estimators': 132}\n",
    "\n",
    "rf_model = RandomForestRegressor(**rf_params, random_state=42)\n",
    "\n",
    "rf_model.fit(X_train, y_train)"
   ]
  },
  {
   "cell_type": "code",
   "execution_count": 9,
   "id": "e7f0a402",
   "metadata": {
    "execution": {
     "iopub.execute_input": "2024-06-30T15:30:23.676963Z",
     "iopub.status.busy": "2024-06-30T15:30:23.676543Z",
     "iopub.status.idle": "2024-06-30T15:30:38.815854Z",
     "shell.execute_reply": "2024-06-30T15:30:38.814553Z"
    },
    "papermill": {
     "duration": 15.148896,
     "end_time": "2024-06-30T15:30:38.818506",
     "exception": false,
     "start_time": "2024-06-30T15:30:23.669610",
     "status": "completed"
    },
    "tags": []
   },
   "outputs": [],
   "source": [
    "# Прогнози з XGBRegressor\n",
    "xgb_train_pred = xgb_model.predict(X_train)\n",
    "xgb_valid_pred = xgb_model.predict(X_valid)\n",
    "\n",
    "# Прогнози з RandomForestRegressor\n",
    "rf_train_pred = rf_model.predict(X_train)\n",
    "rf_valid_pred = rf_model.predict(X_valid)"
   ]
  },
  {
   "cell_type": "code",
   "execution_count": 10,
   "id": "1ba0c205",
   "metadata": {
    "execution": {
     "iopub.execute_input": "2024-06-30T15:30:38.832389Z",
     "iopub.status.busy": "2024-06-30T15:30:38.832005Z",
     "iopub.status.idle": "2024-06-30T15:30:38.838017Z",
     "shell.execute_reply": "2024-06-30T15:30:38.836834Z"
    },
    "papermill": {
     "duration": 0.015956,
     "end_time": "2024-06-30T15:30:38.840537",
     "exception": false,
     "start_time": "2024-06-30T15:30:38.824581",
     "status": "completed"
    },
    "tags": []
   },
   "outputs": [],
   "source": [
    "# Створення нових фіч з прогнозів базових моделей\n",
    "X_train_blend = np.column_stack((xgb_train_pred, rf_train_pred))\n",
    "X_valid_blend = np.column_stack((xgb_valid_pred, rf_valid_pred))"
   ]
  },
  {
   "cell_type": "code",
   "execution_count": 11,
   "id": "12474f1a",
   "metadata": {
    "execution": {
     "iopub.execute_input": "2024-06-30T15:30:38.853374Z",
     "iopub.status.busy": "2024-06-30T15:30:38.852983Z",
     "iopub.status.idle": "2024-06-30T15:30:38.893514Z",
     "shell.execute_reply": "2024-06-30T15:30:38.892456Z"
    },
    "papermill": {
     "duration": 0.049861,
     "end_time": "2024-06-30T15:30:38.896046",
     "exception": false,
     "start_time": "2024-06-30T15:30:38.846185",
     "status": "completed"
    },
    "tags": []
   },
   "outputs": [],
   "source": [
    "# Нормалізація даних за допомогою StandardScaler\n",
    "scaler = StandardScaler()\n",
    "X_train_scaled = scaler.fit_transform(X_train_blend)\n",
    "X_valid_scaled = scaler.transform(X_valid_blend)"
   ]
  },
  {
   "cell_type": "code",
   "execution_count": 12,
   "id": "86de4272",
   "metadata": {
    "execution": {
     "iopub.execute_input": "2024-06-30T15:30:38.908906Z",
     "iopub.status.busy": "2024-06-30T15:30:38.908456Z",
     "iopub.status.idle": "2024-06-30T15:30:38.946192Z",
     "shell.execute_reply": "2024-06-30T15:30:38.944917Z"
    },
    "papermill": {
     "duration": 0.047702,
     "end_time": "2024-06-30T15:30:38.949399",
     "exception": false,
     "start_time": "2024-06-30T15:30:38.901697",
     "status": "completed"
    },
    "tags": []
   },
   "outputs": [
    {
     "data": {
      "text/html": [
       "<style>#sk-container-id-2 {color: black;background-color: white;}#sk-container-id-2 pre{padding: 0;}#sk-container-id-2 div.sk-toggleable {background-color: white;}#sk-container-id-2 label.sk-toggleable__label {cursor: pointer;display: block;width: 100%;margin-bottom: 0;padding: 0.3em;box-sizing: border-box;text-align: center;}#sk-container-id-2 label.sk-toggleable__label-arrow:before {content: \"▸\";float: left;margin-right: 0.25em;color: #696969;}#sk-container-id-2 label.sk-toggleable__label-arrow:hover:before {color: black;}#sk-container-id-2 div.sk-estimator:hover label.sk-toggleable__label-arrow:before {color: black;}#sk-container-id-2 div.sk-toggleable__content {max-height: 0;max-width: 0;overflow: hidden;text-align: left;background-color: #f0f8ff;}#sk-container-id-2 div.sk-toggleable__content pre {margin: 0.2em;color: black;border-radius: 0.25em;background-color: #f0f8ff;}#sk-container-id-2 input.sk-toggleable__control:checked~div.sk-toggleable__content {max-height: 200px;max-width: 100%;overflow: auto;}#sk-container-id-2 input.sk-toggleable__control:checked~label.sk-toggleable__label-arrow:before {content: \"▾\";}#sk-container-id-2 div.sk-estimator input.sk-toggleable__control:checked~label.sk-toggleable__label {background-color: #d4ebff;}#sk-container-id-2 div.sk-label input.sk-toggleable__control:checked~label.sk-toggleable__label {background-color: #d4ebff;}#sk-container-id-2 input.sk-hidden--visually {border: 0;clip: rect(1px 1px 1px 1px);clip: rect(1px, 1px, 1px, 1px);height: 1px;margin: -1px;overflow: hidden;padding: 0;position: absolute;width: 1px;}#sk-container-id-2 div.sk-estimator {font-family: monospace;background-color: #f0f8ff;border: 1px dotted black;border-radius: 0.25em;box-sizing: border-box;margin-bottom: 0.5em;}#sk-container-id-2 div.sk-estimator:hover {background-color: #d4ebff;}#sk-container-id-2 div.sk-parallel-item::after {content: \"\";width: 100%;border-bottom: 1px solid gray;flex-grow: 1;}#sk-container-id-2 div.sk-label:hover label.sk-toggleable__label {background-color: #d4ebff;}#sk-container-id-2 div.sk-serial::before {content: \"\";position: absolute;border-left: 1px solid gray;box-sizing: border-box;top: 0;bottom: 0;left: 50%;z-index: 0;}#sk-container-id-2 div.sk-serial {display: flex;flex-direction: column;align-items: center;background-color: white;padding-right: 0.2em;padding-left: 0.2em;position: relative;}#sk-container-id-2 div.sk-item {position: relative;z-index: 1;}#sk-container-id-2 div.sk-parallel {display: flex;align-items: stretch;justify-content: center;background-color: white;position: relative;}#sk-container-id-2 div.sk-item::before, #sk-container-id-2 div.sk-parallel-item::before {content: \"\";position: absolute;border-left: 1px solid gray;box-sizing: border-box;top: 0;bottom: 0;left: 50%;z-index: -1;}#sk-container-id-2 div.sk-parallel-item {display: flex;flex-direction: column;z-index: 1;position: relative;background-color: white;}#sk-container-id-2 div.sk-parallel-item:first-child::after {align-self: flex-end;width: 50%;}#sk-container-id-2 div.sk-parallel-item:last-child::after {align-self: flex-start;width: 50%;}#sk-container-id-2 div.sk-parallel-item:only-child::after {width: 0;}#sk-container-id-2 div.sk-dashed-wrapped {border: 1px dashed gray;margin: 0 0.4em 0.5em 0.4em;box-sizing: border-box;padding-bottom: 0.4em;background-color: white;}#sk-container-id-2 div.sk-label label {font-family: monospace;font-weight: bold;display: inline-block;line-height: 1.2em;}#sk-container-id-2 div.sk-label-container {text-align: center;}#sk-container-id-2 div.sk-container {/* jupyter's `normalize.less` sets `[hidden] { display: none; }` but bootstrap.min.css set `[hidden] { display: none !important; }` so we also need the `!important` here to be able to override the default hidden behavior on the sphinx rendered scikit-learn.org. See: https://github.com/scikit-learn/scikit-learn/issues/21755 */display: inline-block !important;position: relative;}#sk-container-id-2 div.sk-text-repr-fallback {display: none;}</style><div id=\"sk-container-id-2\" class=\"sk-top-container\"><div class=\"sk-text-repr-fallback\"><pre>Ridge(alpha=0.5, positive=True)</pre><b>In a Jupyter environment, please rerun this cell to show the HTML representation or trust the notebook. <br />On GitHub, the HTML representation is unable to render, please try loading this page with nbviewer.org.</b></div><div class=\"sk-container\" hidden><div class=\"sk-item\"><div class=\"sk-estimator sk-toggleable\"><input class=\"sk-toggleable__control sk-hidden--visually\" id=\"sk-estimator-id-2\" type=\"checkbox\" checked><label for=\"sk-estimator-id-2\" class=\"sk-toggleable__label sk-toggleable__label-arrow\">Ridge</label><div class=\"sk-toggleable__content\"><pre>Ridge(alpha=0.5, positive=True)</pre></div></div></div></div></div>"
      ],
      "text/plain": [
       "Ridge(alpha=0.5, positive=True)"
      ]
     },
     "execution_count": 12,
     "metadata": {},
     "output_type": "execute_result"
    }
   ],
   "source": [
    "# Навчання метамоделі Ridge на нормалізованих даних\n",
    "meta_model_ridge = Ridge(positive=True, alpha=0.5)\n",
    "meta_model_ridge.fit(X_train_scaled, y_train)"
   ]
  },
  {
   "cell_type": "code",
   "execution_count": 13,
   "id": "fadc3ca0",
   "metadata": {
    "execution": {
     "iopub.execute_input": "2024-06-30T15:30:38.971149Z",
     "iopub.status.busy": "2024-06-30T15:30:38.970552Z",
     "iopub.status.idle": "2024-06-30T15:30:43.013770Z",
     "shell.execute_reply": "2024-06-30T15:30:43.012479Z"
    },
    "papermill": {
     "duration": 4.057959,
     "end_time": "2024-06-30T15:30:43.017068",
     "exception": false,
     "start_time": "2024-06-30T15:30:38.959109",
     "status": "completed"
    },
    "tags": []
   },
   "outputs": [],
   "source": [
    "# Прогнози з базових моделей на тестових даних\n",
    "xgb_test_pred = xgb_model.predict(X_test)\n",
    "rf_test_pred = rf_model.predict(X_test)\n",
    "\n",
    "# Створення нового набору даних для тестових прогнозів\n",
    "X_test_blend = np.column_stack((xgb_test_pred, rf_test_pred))\n",
    "\n",
    "# Нормалізація тестових даних для прогнозів\n",
    "X_test_scaled = scaler.transform(X_test_blend)\n",
    "\n",
    "# Прогноз з метамоделі Ridge на нормалізованих тестових даних\n",
    "final_pred = meta_model_ridge.predict(X_test_scaled)\n"
   ]
  },
  {
   "cell_type": "code",
   "execution_count": 14,
   "id": "06036568",
   "metadata": {
    "execution": {
     "iopub.execute_input": "2024-06-30T15:30:43.038713Z",
     "iopub.status.busy": "2024-06-30T15:30:43.038152Z",
     "iopub.status.idle": "2024-06-30T15:30:43.044908Z",
     "shell.execute_reply": "2024-06-30T15:30:43.043552Z"
    },
    "papermill": {
     "duration": 0.023703,
     "end_time": "2024-06-30T15:30:43.050436",
     "exception": false,
     "start_time": "2024-06-30T15:30:43.026733",
     "status": "completed"
    },
    "tags": []
   },
   "outputs": [],
   "source": [
    "# boosted_model = GradientBoostingRegressor(loss='squared_error', alpha=0.95,\n",
    "#                           n_estimators=200, max_depth=4,\n",
    "#                           learning_rate=.1, min_samples_leaf=9,\n",
    "#                           min_samples_split=9)\n",
    "\n",
    "# # Навчання ансамблю на навчальних даних\n",
    "# boosted_model.fit(X_train, y_train)\n",
    "\n",
    "# # Прогноз на тестових даних\n",
    "# final_pred = boosted_model.predict(X_valid)"
   ]
  },
  {
   "cell_type": "code",
   "execution_count": 15,
   "id": "aeacd132",
   "metadata": {
    "execution": {
     "iopub.execute_input": "2024-06-30T15:30:43.072278Z",
     "iopub.status.busy": "2024-06-30T15:30:43.071731Z",
     "iopub.status.idle": "2024-06-30T15:30:43.090520Z",
     "shell.execute_reply": "2024-06-30T15:30:43.089317Z"
    },
    "papermill": {
     "duration": 0.033009,
     "end_time": "2024-06-30T15:30:43.093684",
     "exception": false,
     "start_time": "2024-06-30T15:30:43.060675",
     "status": "completed"
    },
    "tags": []
   },
   "outputs": [
    {
     "data": {
      "text/plain": [
       "array([-525.52920061, -515.69306567, -486.74426764, ..., 7136.22761976,\n",
       "       7968.88131199, 8359.91739397])"
      ]
     },
     "execution_count": 15,
     "metadata": {},
     "output_type": "execute_result"
    }
   ],
   "source": [
    "final_pred_sorted = np.sort(final_pred)\n",
    "final_pred_sorted"
   ]
  },
  {
   "cell_type": "code",
   "execution_count": 16,
   "id": "a330e1d8",
   "metadata": {
    "execution": {
     "iopub.execute_input": "2024-06-30T15:30:43.115288Z",
     "iopub.status.busy": "2024-06-30T15:30:43.114721Z",
     "iopub.status.idle": "2024-06-30T15:30:43.567974Z",
     "shell.execute_reply": "2024-06-30T15:30:43.566174Z"
    },
    "papermill": {
     "duration": 0.466819,
     "end_time": "2024-06-30T15:30:43.570239",
     "exception": true,
     "start_time": "2024-06-30T15:30:43.103420",
     "status": "failed"
    },
    "tags": []
   },
   "outputs": [
    {
     "ename": "ValueError",
     "evalue": "Mean Squared Logarithmic Error cannot be used when targets contain negative values.",
     "output_type": "error",
     "traceback": [
      "\u001b[0;31m---------------------------------------------------------------------------\u001b[0m",
      "\u001b[0;31mValueError\u001b[0m                                Traceback (most recent call last)",
      "Cell \u001b[0;32mIn[16], line 1\u001b[0m\n\u001b[0;32m----> 1\u001b[0m rmse_log \u001b[38;5;241m=\u001b[39m \u001b[43mmean_squared_log_error\u001b[49m\u001b[43m(\u001b[49m\u001b[43my_test\u001b[49m\u001b[43m,\u001b[49m\u001b[43m \u001b[49m\u001b[43mfinal_pred\u001b[49m\u001b[43m,\u001b[49m\u001b[43m \u001b[49m\u001b[43msquared\u001b[49m\u001b[38;5;241;43m=\u001b[39;49m\u001b[38;5;28;43;01mFalse\u001b[39;49;00m\u001b[43m)\u001b[49m\n\u001b[1;32m      2\u001b[0m rmse_log\n",
      "File \u001b[0;32m/opt/conda/lib/python3.10/site-packages/sklearn/metrics/_regression.py:525\u001b[0m, in \u001b[0;36mmean_squared_log_error\u001b[0;34m(y_true, y_pred, sample_weight, multioutput, squared)\u001b[0m\n\u001b[1;32m    522\u001b[0m check_consistent_length(y_true, y_pred, sample_weight)\n\u001b[1;32m    524\u001b[0m \u001b[38;5;28;01mif\u001b[39;00m (y_true \u001b[38;5;241m<\u001b[39m \u001b[38;5;241m0\u001b[39m)\u001b[38;5;241m.\u001b[39many() \u001b[38;5;129;01mor\u001b[39;00m (y_pred \u001b[38;5;241m<\u001b[39m \u001b[38;5;241m0\u001b[39m)\u001b[38;5;241m.\u001b[39many():\n\u001b[0;32m--> 525\u001b[0m     \u001b[38;5;28;01mraise\u001b[39;00m \u001b[38;5;167;01mValueError\u001b[39;00m(\n\u001b[1;32m    526\u001b[0m         \u001b[38;5;124m\"\u001b[39m\u001b[38;5;124mMean Squared Logarithmic Error cannot be used when \u001b[39m\u001b[38;5;124m\"\u001b[39m\n\u001b[1;32m    527\u001b[0m         \u001b[38;5;124m\"\u001b[39m\u001b[38;5;124mtargets contain negative values.\u001b[39m\u001b[38;5;124m\"\u001b[39m\n\u001b[1;32m    528\u001b[0m     )\n\u001b[1;32m    530\u001b[0m \u001b[38;5;28;01mreturn\u001b[39;00m mean_squared_error(\n\u001b[1;32m    531\u001b[0m     np\u001b[38;5;241m.\u001b[39mlog1p(y_true),\n\u001b[1;32m    532\u001b[0m     np\u001b[38;5;241m.\u001b[39mlog1p(y_pred),\n\u001b[0;32m   (...)\u001b[0m\n\u001b[1;32m    535\u001b[0m     squared\u001b[38;5;241m=\u001b[39msquared,\n\u001b[1;32m    536\u001b[0m )\n",
      "\u001b[0;31mValueError\u001b[0m: Mean Squared Logarithmic Error cannot be used when targets contain negative values."
     ]
    }
   ],
   "source": [
    "rmse_log = mean_squared_log_error(y_test, final_pred, squared=False)\n",
    "rmse_log"
   ]
  }
 ],
 "metadata": {
  "kaggle": {
   "accelerator": "none",
   "dataSources": [
    {
     "databundleVersionId": 8765512,
     "sourceId": 77807,
     "sourceType": "competition"
    }
   ],
   "dockerImageVersionId": 30732,
   "isGpuEnabled": false,
   "isInternetEnabled": true,
   "language": "python",
   "sourceType": "notebook"
  },
  "kernelspec": {
   "display_name": "Python 3",
   "language": "python",
   "name": "python3"
  },
  "language_info": {
   "codemirror_mode": {
    "name": "ipython",
    "version": 3
   },
   "file_extension": ".py",
   "mimetype": "text/x-python",
   "name": "python",
   "nbconvert_exporter": "python",
   "pygments_lexer": "ipython3",
   "version": "3.10.13"
  },
  "papermill": {
   "default_parameters": {},
   "duration": 98.906509,
   "end_time": "2024-06-30T15:30:44.400185",
   "environment_variables": {},
   "exception": true,
   "input_path": "__notebook__.ipynb",
   "output_path": "__notebook__.ipynb",
   "parameters": {},
   "start_time": "2024-06-30T15:29:05.493676",
   "version": "2.5.0"
  }
 },
 "nbformat": 4,
 "nbformat_minor": 5
}
